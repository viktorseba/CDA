{
 "cells": [
  {
   "cell_type": "markdown",
   "metadata": {},
   "source": [
    "## Imports"
   ]
  },
  {
   "cell_type": "code",
   "execution_count": 1,
   "metadata": {},
   "outputs": [],
   "source": [
    "# To embed plots in the notebooks\n",
    "%matplotlib inline\n",
    "import matplotlib.pyplot as plt\n",
    "\n",
    "import numpy as np # numpy library\n",
    "import scipy . linalg as lng # linear algebra from scipy library\n",
    "from scipy . spatial import distance # load distance function\n",
    "from sklearn import preprocessing as preproc # load preprocessing function\n",
    "\n",
    "# seaborn can be used to \"prettify\" default matplotlib plots by importing and setting as default\n",
    "import seaborn as sns\n",
    "sns.set() # Set searborn as default"
   ]
  },
  {
   "cell_type": "markdown",
   "metadata": {},
   "source": [
    "## Load dataset"
   ]
  },
  {
   "cell_type": "code",
   "execution_count": 2,
   "metadata": {},
   "outputs": [],
   "source": [
    "diabetPath = './DiabetesDataNormalized.txt'\n",
    "T = np.loadtxt(diabetPath, delimiter = ' ', skiprows = 1)\n",
    "y = T[:, 10]\n",
    "X = T[:,:10]\n",
    "\n",
    "# Get number of observations (n) and number of independent variables (p)\n",
    "[n, p] = np.shape(X)\n",
    "\n",
    "M = X"
   ]
  },
  {
   "cell_type": "markdown",
   "metadata": {},
   "source": [
    "## 1 Solve the Ordinary Least Squares (OLS) computationally (for the diabetes data set):\n",
    "\n",
    "> (a) What is the difference between using a brute force implementation(analytical) for an OLS solver and a numerically ’smarter’ implementation? Compute the ordinary least squares solution to the diabetes data set for both options and look at the relative difference. Use for example lng.lstsq to invert the matrix or to solve the linear system of equation."
   ]
  },
  {
   "cell_type": "code",
   "execution_count": 3,
   "metadata": {},
   "outputs": [],
   "source": [
    "def ols_solver(X, y):\n",
    "    betas, res, rnk, s = lng.lstsq(X, y)\n",
    "    \n",
    "    return betas, res, rnk, s\n",
    "\n",
    "def ols_analytical(X, y):\n",
    "    inner_product = np.linalg.inv(X.T @ X)\n",
    "    outer_product = X.T @ y\n",
    "    betas = inner_product @ outer_product\n",
    "    return betas"
   ]
  },
  {
   "cell_type": "code",
   "execution_count": 4,
   "metadata": {},
   "outputs": [
    {
     "name": "stdout",
     "output_type": "stream",
     "text": [
      "The list of betas: \n",
      "[-0.00618293 -0.14813008  0.32110005  0.20036692 -0.48931352  0.29447365\n",
      "  0.06241272  0.10936897  0.46404908  0.04177187]\n"
     ]
    }
   ],
   "source": [
    "# linear solver\n",
    "beta_solv, res, rnk, s = ols_solver(M, y)\n",
    "yhat_solv = M @ beta_solv\n",
    "print(f'The list of betas: \\n{beta_solv}')"
   ]
  },
  {
   "cell_type": "code",
   "execution_count": 5,
   "metadata": {},
   "outputs": [
    {
     "name": "stdout",
     "output_type": "stream",
     "text": [
      "The list of betas: \n",
      "[-0.00618293 -0.14813008  0.32110005  0.20036692 -0.48931352  0.29447365\n",
      "  0.06241272  0.10936897  0.46404908  0.04177187]\n"
     ]
    }
   ],
   "source": [
    "# numerical solution\n",
    "beta_ana = ols_analytical(M,y)\n",
    "yhat_num = M @ beta_ana\n",
    "print(f'The list of betas: \\n{beta_ana}')"
   ]
  },
  {
   "cell_type": "markdown",
   "metadata": {},
   "source": [
    "> (b) How could you include an intercept term in Python? This means using the model: $y = β_0 +xβ_1 +...+x_pβ_p +ε $ rather than: $ y=x_1β_1 +...+x_pβ_p +ε. $"
   ]
  },
  {
   "cell_type": "code",
   "execution_count": 6,
   "metadata": {},
   "outputs": [],
   "source": [
    "# Include offset / intercept\n",
    "off = np.ones(n) \n",
    "M = np.c_[off, X]\n",
    "\n",
    "# linear solver\n",
    "beta_solv, res_solv, rnk, s = ols_solver(M, y)\n",
    "yhat_solv = M @ beta_solv\n",
    "\n",
    "# analytical solution\n",
    "beta_ana = ols_analytical(M,y)\n",
    "yhat_ana = M @ beta_ana"
   ]
  },
  {
   "cell_type": "markdown",
   "metadata": {},
   "source": [
    "> (c) Calculate the mean squared error $MSE = 1/n \\sum^n_{i=1} (y_i−x_iβ)^2$."
   ]
  },
  {
   "cell_type": "code",
   "execution_count": 7,
   "metadata": {},
   "outputs": [
    {
     "name": "stdout",
     "output_type": "stream",
     "text": [
      "mse from lstsq: 0.4811605108615969\n",
      "mse from solver: 0.48116051086159695\n",
      "mse from nummerical: 0.4811605108615969\n"
     ]
    }
   ],
   "source": [
    "# Manual calculation of residuals for solver\n",
    "res_solv_man = (y - yhat_solv) ** 2    \n",
    "mse_solv_man = np.mean(res_solv_man)\n",
    "\n",
    "# Manual calculation of residuals for analytical\n",
    "res_ana = (y - yhat_ana) ** 2    \n",
    "mse_ana = np.mean(res_ana)\n",
    "\n",
    "print(f'mse from lstsq: {res_solv/len(y)}') # lng.lstsq returns sum of squared residuals, so we divide by num of obs to get mean\n",
    "print(f'mse from solver: {mse_solv_man}')\n",
    "print(f'mse from nummerical: {mse_ana}')"
   ]
  },
  {
   "cell_type": "markdown",
   "metadata": {},
   "source": [
    "> (d) Calculate the residual sum of squares $RSS = ∥{\\bf y} − Xβ∥_2^2$ and the total sum of squares $T SS = ∥{\\bf y} − y ̄∥_2^2$, where $y ̄$ is the estimated mean of ${\\bf y}$. Report on the $R^2$ measure, that is, the proportion of variance in the sample set explained by the\n",
    "  model: $R^2 = 1 − \\frac{RSS}{TSS}$"
   ]
  },
  {
   "cell_type": "code",
   "execution_count": 8,
   "metadata": {},
   "outputs": [
    {
     "name": "stdout",
     "output_type": "stream",
     "text": [
      "RSS: 212.67294580082583\n",
      "TSS: 441.00000000000034\n",
      "R2: 51.77484222203499\n"
     ]
    }
   ],
   "source": [
    "# analytical version\n",
    "rss = np.sum(res_ana)\n",
    "print(f'RSS: {rss}')\n",
    "tss = np.sum((y - np.mean(y))** 2)\n",
    "print(f'TSS: {tss}')\n",
    "r2 = (1 - rss / tss) * 100\n",
    "print(f'R2: {r2}')"
   ]
  }
 ],
 "metadata": {
  "file_extension": ".py",
  "kernelspec": {
   "display_name": "Python 3",
   "language": "python",
   "name": "python3"
  },
  "language_info": {
   "codemirror_mode": {
    "name": "ipython",
    "version": 3
   },
   "file_extension": ".py",
   "mimetype": "text/x-python",
   "name": "python",
   "nbconvert_exporter": "python",
   "pygments_lexer": "ipython3",
   "version": "3.7.4"
  },
  "mimetype": "text/x-python",
  "name": "python",
  "npconvert_exporter": "python",
  "pygments_lexer": "ipython3",
  "version": 3
 },
 "nbformat": 4,
 "nbformat_minor": 2
}
