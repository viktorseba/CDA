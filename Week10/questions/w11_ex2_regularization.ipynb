{
 "cells": [
  {
   "cell_type": "markdown",
   "metadata": {},
   "source": [
    "#### Go to https://pytorch.org/ and follow the instructions to install PyTorch."
   ]
  },
  {
   "cell_type": "markdown",
   "metadata": {},
   "source": [
    "## Imports"
   ]
  },
  {
   "cell_type": "code",
   "execution_count": 9,
   "metadata": {},
   "outputs": [],
   "source": [
    "import torch\n",
    "from torch.autograd import Variable\n",
    "import torch.nn.functional as F\n",
    "import torch.utils.data as Data\n",
    "import torch.utils.data as Data\n",
    "import time\n",
    "import numpy as np\n",
    "from sklearn.model_selection import train_test_split\n",
    "from sklearn.metrics import confusion_matrix, ConfusionMatrixDisplay\n",
    "from pathlib import Path\n",
    "import matplotlib.pyplot as plt\n",
    "import matplotlib.gridspec as gridspec\n",
    "# This import registers the 3D projection, but is otherwise unused.\n",
    "from mpl_toolkits.mplot3d import Axes3D\n",
    "import scipy.io\n",
    "from tqdm import tqdm\n",
    "%matplotlib inline"
   ]
  },
  {
   "cell_type": "markdown",
   "metadata": {},
   "source": [
    "## Import dataset"
   ]
  },
  {
   "cell_type": "code",
   "execution_count": 5,
   "metadata": {},
   "outputs": [],
   "source": [
    "# path = Path().cwd()\n",
    "data_file = \"../Data/zipdata.mat\"\n",
    "\n",
    "# data_file = path / \"zipdata.mat\"\n",
    "data = scipy.io.loadmat(data_file)\n",
    "\n",
    "X_train, X_test, y_train, y_test = train_test_split(data['X'], data['y'], test_size=0.20, random_state=42)\n",
    "X_train, X_val, y_train, y_val = train_test_split(X_train, y_train, test_size=0.10, random_state=42)\n",
    "\n",
    "X_train = torch.tensor(X_train, dtype=torch.float)\n",
    "X_test = torch.tensor(X_test, dtype=torch.float)\n",
    "X_val = torch.tensor(X_val, dtype=torch.float)\n",
    "y_train = torch.tensor(y_train, dtype=torch.long).squeeze()\n",
    "y_test = torch.tensor(y_test, dtype=torch.long).squeeze()\n",
    "y_val = torch.tensor(y_val, dtype=torch.long).squeeze()"
   ]
  },
  {
   "cell_type": "markdown",
   "metadata": {},
   "source": [
    "### setup loaders"
   ]
  },
  {
   "cell_type": "code",
   "execution_count": 6,
   "metadata": {},
   "outputs": [],
   "source": [
    "BATCH_SIZE = 50\n",
    "\n",
    "# set up a loader for training and test data\n",
    "train_dataset = Data.TensorDataset(X_train, y_train)\n",
    "train_loader = Data.DataLoader(\n",
    "    dataset=train_dataset, \n",
    "    batch_size=BATCH_SIZE, \n",
    "    shuffle=True)\n",
    "\n",
    "val_dataset = Data.TensorDataset(X_val, y_val)\n",
    "val_loader = Data.DataLoader(\n",
    "    dataset=val_dataset, \n",
    "    batch_size=BATCH_SIZE, \n",
    "    shuffle=False)\n",
    "\n",
    "test_dataset = Data.TensorDataset(X_test, y_test)\n",
    "test_loader = Data.DataLoader(\n",
    "    dataset=test_dataset, \n",
    "    batch_size=BATCH_SIZE, \n",
    "    shuffle=False)"
   ]
  },
  {
   "cell_type": "markdown",
   "metadata": {},
   "source": [
    "## Artificial Neural Network"
   ]
  },
  {
   "cell_type": "code",
   "execution_count": 14,
   "metadata": {},
   "outputs": [],
   "source": [
    "# ann with 2 layers\n",
    "class netWork(torch.nn.Module):\n",
    "    def __init__(self, n_feature, n_hidden_layers, n_output):\n",
    "        super(netWork, self).__init__()\n",
    "\n",
    "        n_hidden_layers.insert(0, n_feature)\n",
    "\n",
    "        self.layers = []  # hidden layers\n",
    "        for i in range(len(n_hidden_layers)-1):\n",
    "            self.layers.append(\n",
    "                torch.nn.Linear(n_hidden_layers[i], n_hidden_layers[i+1])\n",
    "            )\n",
    "                \n",
    "        self.predict = torch.nn.Linear(n_hidden_layers[-1], n_output)   # output layer\n",
    "\n",
    "    def forward(self, x):\n",
    "        \n",
    "        for layer in self.layers:\n",
    "            x = F.relu(layer(x))      # activation function for hiddens\n",
    "        \n",
    "        x = self.predict(x)             # linear output\n",
    "        \n",
    "        return x\n",
    "\n",
    "num_classes= 10\n",
    "number_of_features = 256\n",
    "n_hidden_layers = [25, 50]  #Try modifing this\n",
    "learning_rate = 0.001\n",
    "    \n",
    "model = netWork(n_feature=number_of_features, n_hidden_layers = n_hidden_layers, n_output=num_classes)     # define the network\n",
    "optimizer = torch.optim.Adam(model.parameters(), lr=learning_rate)\n",
    "loss_func = torch.nn.CrossEntropyLoss()"
   ]
  },
  {
   "cell_type": "markdown",
   "metadata": {},
   "source": [
    "## Early stopping"
   ]
  },
  {
   "cell_type": "code",
   "execution_count": 13,
   "metadata": {},
   "outputs": [],
   "source": [
    "# from https://gist.github.com/stefanonardo/693d96ceb2f531fa05db530f3e21517d\n",
    "\n",
    "class EarlyStopping(object):\n",
    "    def __init__(self, mode='min', min_delta=0, patience=10, percentage=False):\n",
    "        self.mode = mode\n",
    "        self.min_delta = min_delta\n",
    "        self.patience = patience\n",
    "        self.best = None\n",
    "        self.bestModel = None\n",
    "        self.num_bad_epochs = 0\n",
    "        self.is_better = None\n",
    "        self._init_is_better(mode, min_delta, percentage)\n",
    "\n",
    "        if patience == 0:\n",
    "            self.is_better = lambda a, b: True\n",
    "            self.step = lambda a: False\n",
    "\n",
    "    def step(self, metrics, curmodel):\n",
    "        if self.best is None:\n",
    "            self.best = metrics\n",
    "            self.bestModel = curmodel\n",
    "            return False\n",
    "\n",
    "        if torch.isnan(metrics):\n",
    "            return True\n",
    "\n",
    "        if self.is_better(metrics, self.best):\n",
    "            self.num_bad_epochs = 0\n",
    "            self.best = metrics\n",
    "            self.bestModel = curmodel\n",
    "        else:\n",
    "            self.num_bad_epochs += 1\n",
    "\n",
    "        if self.num_bad_epochs >= self.patience:\n",
    "            return True\n",
    "\n",
    "        return False\n",
    "\n",
    "    def _init_is_better(self, mode, min_delta, percentage):\n",
    "        if mode not in {'min', 'max'}:\n",
    "            raise ValueError('mode ' + mode + ' is unknown!')\n",
    "        if not percentage:\n",
    "            if mode == 'min':\n",
    "                self.is_better = lambda a, best: a < best - min_delta\n",
    "            if mode == 'max':\n",
    "                self.is_better = lambda a, best: a > best + min_delta\n",
    "        else:\n",
    "            if mode == 'min':\n",
    "                self.is_better = lambda a, best: a < best - (\n",
    "                            best * min_delta / 100)\n",
    "            if mode == 'max':\n",
    "                self.is_better = lambda a, best: a > best + (\n",
    "                            best * min_delta / 100)\n",
    "                \n",
    "\n",
    "                \n",
    "# play around with patience\n",
    "# The early stopping module takes in the following parameters\n",
    "# mode='min' / 'max' - whether smaller or lager is better\n",
    "# min_delta=0 - a delta that can be used to make early stopping more or less lenient when evaulating \"bad\" epochs\n",
    "# patience=10 - how many \"bad\" epochs that are allowed(epoches with worse score than the current best)\n",
    "# percentage=False / True - whether the criterion is in percentage or not\n",
    "earlyStopping = EarlyStopping(patience=5)"
   ]
  },
  {
   "cell_type": "code",
   "execution_count": 15,
   "metadata": {},
   "outputs": [
    {
     "name": "stderr",
     "output_type": "stream",
     "text": [
      "  0%|          | 0/1000 [00:00<?, ?it/s]"
     ]
    },
    {
     "name": "stderr",
     "output_type": "stream",
     "text": [
      "100%|██████████| 1000/1000 [01:22<00:00, 12.09it/s]\n"
     ]
    },
    {
     "data": {
      "image/png": "[encoded data removed]",
      "text/plain": [
       "<Figure size 1000x700 with 1 Axes>"
      ]
     },
     "metadata": {},
     "output_type": "display_data"
    }
   ],
   "source": [
    "EPOCH = 1000\n",
    "fig, ax = plt.subplots(figsize=(10,7))\n",
    "\n",
    "# train the network\n",
    "train_loss_graph = []\n",
    "val_loss_graph = []\n",
    "test_loss_graph = []\n",
    "for epoch in tqdm(range(EPOCH)):\n",
    "    train_loss_tot = 0 # Save for plotting\n",
    "    model.train() # prepare model for training\n",
    "    for s, (inputs_, targets_) in enumerate(train_loader): # for each training step\n",
    "        \n",
    "        predictions = model(inputs_)     # input x and predict based on x\n",
    "        \n",
    "        loss = loss_func(predictions, targets_)   # compute the loss. must be (1. nn output, 2. target)\n",
    "        \n",
    "        optimizer.zero_grad()   # clear gradients for next train\n",
    "        loss.backward()         # backpropagation, compute gradients\n",
    "        optimizer.step()        # apply gradients \n",
    "\n",
    "        #save the loss for plotting\n",
    "        train_loss_tot += loss.item() * inputs_.shape[0] #Multiply with the current batchsize to get pr. sample loss\n",
    "    \n",
    "    val_loss_tot = 0 # Save for plotting\n",
    "    model.eval() # prepare model for testing\n",
    "    for s, (inputs_, targets_) in enumerate(val_loader): # for each testing batch\n",
    "                \n",
    "        predictions = model(inputs_)     # input x and predict based on x\n",
    "    \n",
    "        loss = loss_func(predictions, targets_)  # compute the loss. must be (1. nn output, 2. target)\n",
    "\n",
    "        #save the loss for plotting\n",
    "        val_loss_tot += loss.item() * inputs_.shape[0] #Multiply with the current batchsize to get pr. sample loss\n",
    "    \n",
    "    test_loss_tot = 0 # Save for plotting\n",
    "    for s, (inputs_, targets_) in enumerate(test_loader): # for each testing batch\n",
    "                \n",
    "        predictions = model(inputs_)     # input x and predict based on x\n",
    "    \n",
    "        loss = loss_func(predictions, targets_)  # compute the loss. must be (1. nn output, 2. target)\n",
    "\n",
    "        #save the loss for plotting\n",
    "        test_loss_tot += loss.item() * inputs_.shape[0] #Multiply with the current batchsize to get pr. sample loss\n",
    "        \n",
    "    train_loss_graph.append(train_loss_tot/len(train_dataset))\n",
    "    val_loss_graph.append(val_loss_tot/len(val_dataset))\n",
    "    test_loss_graph.append(test_loss_tot/len(test_dataset))\n",
    "\n",
    "    plt.cla()\n",
    "    # plot and show learning process\n",
    "    ax.set_title('Loss Analysis', fontsize=35)\n",
    "    ax.set_xlabel('epoch', fontsize=24)\n",
    "    ax.set_ylabel('Loss', fontsize=24)\n",
    "    x = np.arange(1,epoch+2)\n",
    "    \n",
    "    ax.plot(x, train_loss_graph, lw=3, label='Training loss')\n",
    "    ax.plot(x, val_loss_graph, lw=3, label='Validation loss')\n",
    "    ax.plot(x, test_loss_graph, lw=3, label='Test loss')\n",
    "    ax.legend()\n",
    "    fig.canvas.draw()       # draw the canvas, cache the renderer\n",
    "    \n",
    "    if earlyStopping.step(torch.tensor(val_loss_tot/len(val_dataset)),model):\n",
    "        print('Exited due to early stopping')\n",
    "        model = earlyStopping.bestModel\n",
    "        break  # early stop criterion is met, we can stop now"
   ]
  },
  {
   "cell_type": "markdown",
   "metadata": {},
   "source": [
    "### Get the predictions of the best model"
   ]
  },
  {
   "cell_type": "code",
   "execution_count": 11,
   "metadata": {},
   "outputs": [
    {
     "data": {
      "text/plain": [
       "<sklearn.metrics._plot.confusion_matrix.ConfusionMatrixDisplay at 0x1dcf55e5750>"
      ]
     },
     "execution_count": 11,
     "metadata": {},
     "output_type": "execute_result"
    },
    {
     "data": {
      "image/png": "[encoded data removed]",
      "text/plain": [
       "<Figure size 640x480 with 2 Axes>"
      ]
     },
     "metadata": {},
     "output_type": "display_data"
    }
   ],
   "source": [
    "preds_tot = torch.zeros(len(test_dataset),num_classes)\n",
    "for s, (inputs_, _) in enumerate(test_loader): # for each testing batch\n",
    "                \n",
    "    predictions = model(inputs_)     # input x and predict based on x\n",
    "    \n",
    "    endIndex = (BATCH_SIZE*(s+1)) if (BATCH_SIZE*(s+1)) <= len(test_dataset) else len(test_dataset)\n",
    "    preds_tot[(BATCH_SIZE*s):endIndex,:] = predictions.data\n",
    "    \n",
    "preds = np.argmax(preds_tot,axis=1)\n",
    "cm = confusion_matrix(y_test,preds)\n",
    "disp = ConfusionMatrixDisplay(confusion_matrix=cm)\n",
    "disp.plot()"
   ]
  },
  {
   "cell_type": "code",
   "execution_count": null,
   "metadata": {},
   "outputs": [],
   "source": [
    "# Run this cell to iterate through all predictions\n",
    "# Track current index (global across runs)\n",
    "if \"index\" not in globals():\n",
    "    index = 0\n",
    "\n",
    "# Plot setup\n",
    "fig = plt.figure(figsize=(10, 7))\n",
    "gs = gridspec.GridSpec(2, 2, wspace=0.2, hspace=0.2)\n",
    "\n",
    "# Image subplot\n",
    "ax_img = fig.add_subplot(gs[0, :])\n",
    "ax_img.axis('off')\n",
    "\n",
    "# Bar chart subplot\n",
    "ax_bar = fig.add_subplot(gs[1, :])\n",
    "ax_bar.set_title('Digit Recognition Probability')\n",
    "ax_bar.set_ylim([0, 1])\n",
    "ax_bar.set_xticks(np.arange(10))\n",
    "\n",
    "# Get data for current step\n",
    "input_ = X_test[index]\n",
    "target_ = y_test[index]\n",
    "predictions_ = preds_tot[index]\n",
    "probs = F.softmax(predictions_, dim=0).numpy()\n",
    "pred = np.argmax(probs)\n",
    "\n",
    "# Plot image\n",
    "ax_img.imshow(input_.reshape(16, 16), cmap='gray', interpolation='nearest')\n",
    "ax_img.set_title(f\"[{index}] Predicted: {pred}, Actual: {target_.item()}\")\n",
    "\n",
    "# Plot bar chart\n",
    "ax_bar.bar(np.arange(10), probs, color='skyblue')\n",
    "\n",
    "plt.show()\n",
    "\n",
    "# Move to next sample for the next cell run\n",
    "index = (index + 1) % len(X_test)"
   ]
  },
  {
   "cell_type": "markdown",
   "metadata": {},
   "source": [
    "## Weight Decay"
   ]
  },
  {
   "cell_type": "code",
   "execution_count": null,
   "metadata": {},
   "outputs": [],
   "source": [
    "weight_decay = 0.1 #Try modifing this\n",
    "n_hidden_layers = [25, 50] #Try modifing this\n",
    "learning_rate = 0.001\n",
    "\n",
    "model = netWork(n_feature=number_of_features, n_hidden_layers = n_hidden_layers, n_output=num_classes)     # define the network\n",
    "optimizer = torch.optim.Adam(model.parameters(), lr=learning_rate, weight_decay=weight_decay)\n",
    "loss_func = torch.nn.CrossEntropyLoss()"
   ]
  },
  {
   "cell_type": "code",
   "execution_count": null,
   "metadata": {},
   "outputs": [],
   "source": [
    "EPOCH = 500\n",
    "fig, ax = plt.subplots(figsize=(10,7))\n",
    "\n",
    "# train the network\n",
    "train_loss_graph = []\n",
    "val_loss_graph = []\n",
    "test_loss_graph = []\n",
    "for epoch in range(EPOCH):\n",
    "    train_loss_tot = 0 # Save for plotting\n",
    "    model.train() # prepare model for training\n",
    "    for s, (inputs_, targets_) in enumerate(train_loader): # for each training step\n",
    "        \n",
    "        predictions = model(inputs_)     # input x and predict based on x\n",
    "        \n",
    "        loss = loss_func(predictions, targets_)   # compute the loss. must be (1. nn output, 2. target)\n",
    "        \n",
    "        optimizer.zero_grad()   # clear gradients for next train\n",
    "        loss.backward()         # backpropagation, compute gradients\n",
    "        optimizer.step()        # apply gradients \n",
    "\n",
    "        #save the loss for plotting\n",
    "        train_loss_tot += loss.item() * inputs_.shape[0] #Multiply with the current batchsize to get pr. sample loss\n",
    "    \n",
    "    val_loss_tot = 0 # Save for plotting\n",
    "    model.eval() # prepare model for testing\n",
    "    for s, (inputs_, targets_) in enumerate(val_loader): # for each testing batch\n",
    "                \n",
    "        predictions = model(inputs_)     # input x and predict based on x\n",
    "    \n",
    "        loss = loss_func(predictions, targets_)  # compute the loss. must be (1. nn output, 2. target)\n",
    "\n",
    "        #save the loss for plotting\n",
    "        val_loss_tot += loss.item() * inputs_.shape[0] #Multiply with the current batchsize to get pr. sample loss\n",
    "    \n",
    "    test_loss_tot = 0 # Save for plotting\n",
    "    for s, (inputs_, targets_) in enumerate(test_loader): # for each testing batch\n",
    "                \n",
    "        predictions = model(inputs_)     # input x and predict based on x\n",
    "    \n",
    "        loss = loss_func(predictions, targets_)  # compute the loss. must be (1. nn output, 2. target)\n",
    "\n",
    "        #save the loss for plotting\n",
    "        test_loss_tot += loss.item() * inputs_.shape[0] #Multiply with the current batchsize to get pr. sample loss\n",
    "        \n",
    "    train_loss_graph.append(train_loss_tot/len(train_dataset))\n",
    "    val_loss_graph.append(val_loss_tot/len(val_dataset))\n",
    "    test_loss_graph.append(test_loss_tot/len(test_dataset))\n",
    "\n",
    "    plt.cla()\n",
    "    # plot and show learning process\n",
    "    ax.set_title('Loss Analysis', fontsize=35)\n",
    "    ax.set_xlabel('epoch', fontsize=24)\n",
    "    ax.set_ylabel('Loss', fontsize=24)\n",
    "    x = np.arange(1,epoch+2)\n",
    "    \n",
    "    ax.plot(x, train_loss_graph, lw=3, label='Training loss')\n",
    "    ax.plot(x, val_loss_graph, lw=3, label='Validation loss')\n",
    "    ax.plot(x, test_loss_graph, lw=3, label='Test loss')\n",
    "    ax.legend()\n",
    "    fig.canvas.draw()       # draw the canvas, cache the renderer"
   ]
  },
  {
   "cell_type": "code",
   "execution_count": null,
   "metadata": {},
   "outputs": [],
   "source": [
    "preds_tot = torch.zeros(len(test_dataset),num_classes)\n",
    "for s, (inputs_, _) in enumerate(test_loader): # for each testing batch\n",
    "                \n",
    "    predictions = model(inputs_)     # input x and predict based on x\n",
    "    \n",
    "    endIndex = (BATCH_SIZE*(s+1)) if (BATCH_SIZE*(s+1)) <= len(test_dataset) else len(test_dataset)\n",
    "    preds_tot[(BATCH_SIZE*s):endIndex,:] = predictions.data\n",
    "    \n",
    "preds = np.argmax(preds_tot,axis=1)\n",
    "cm = confusion_matrix(y_test,preds)\n",
    "disp = ConfusionMatrixDisplay(confusion_matrix=cm)\n",
    "disp.plot()"
   ]
  },
  {
   "cell_type": "code",
   "execution_count": null,
   "metadata": {},
   "outputs": [],
   "source": [
    "# Track current index (preserved across runs)\n",
    "if 'index' not in globals():\n",
    "    index = 0\n",
    "\n",
    "# Create figure and layout\n",
    "fig = plt.figure(figsize=(10, 7))\n",
    "gs = gridspec.GridSpec(2, 2, wspace=0.2, hspace=0.2)\n",
    "\n",
    "# Image display (digit)\n",
    "ax = plt.Subplot(fig, gs[0])\n",
    "ax.axis('off')\n",
    "ax.set_xticks([])\n",
    "ax.set_yticks([])\n",
    "fig.add_subplot(ax)\n",
    "\n",
    "# Prediction bar chart\n",
    "axBar = fig.add_subplot(gs[1, :])\n",
    "probs = F.softmax(preds_tot[index], dim=0).numpy()\n",
    "bars = axBar.bar(np.arange(10), probs)\n",
    "axBar.set_title('Digit Recognition Probability')\n",
    "axBar.set_ylim([0, 1])\n",
    "axBar.set_xticks(np.arange(10))\n",
    "\n",
    "# Data for current index\n",
    "input_ = X_test[index]\n",
    "target_ = y_test[index]\n",
    "predictions_ = preds_tot[index]\n",
    "pred = torch.argmax(predictions_).item()\n",
    "\n",
    "# Update image\n",
    "vmax = max(input_.max(), -input_.min())\n",
    "ax.set_title(f'[{index}] Predicted {pred}, Actual {target_.item()}')\n",
    "ax.imshow(input_.reshape((16, 16)), cmap=plt.cm.gray,\n",
    "          interpolation='nearest', vmin=-vmax, vmax=vmax)\n",
    "\n",
    "# Update bar heights\n",
    "for bar, h in zip(bars, probs):\n",
    "    bar.set_height(h)\n",
    "\n",
    "plt.show()\n",
    "\n",
    "# Advance index for next run\n",
    "index = (index + 1) % len(X_test)"
   ]
  }
 ],
 "metadata": {
  "kernelspec": {
   "display_name": ".venv_ml1",
   "language": "python",
   "name": "python3"
  },
  "language_info": {
   "codemirror_mode": {
    "name": "ipython",
    "version": 3
   },
   "file_extension": ".py",
   "mimetype": "text/x-python",
   "name": "python",
   "nbconvert_exporter": "python",
   "pygments_lexer": "ipython3",
   "version": "3.11.9"
  }
 },
 "nbformat": 4,
 "nbformat_minor": 4
}
