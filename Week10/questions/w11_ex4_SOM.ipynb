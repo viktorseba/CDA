{
 "cells": [
  {
   "cell_type": "code",
   "execution_count": null,
   "metadata": {},
   "outputs": [],
   "source": [
    "# can be used to install SOM\n",
    "import sys\n",
    "!pip install minisom"
   ]
  },
  {
   "cell_type": "markdown",
   "metadata": {},
   "source": [
    "## Imports"
   ]
  },
  {
   "cell_type": "code",
   "execution_count": null,
   "metadata": {},
   "outputs": [],
   "source": [
    "from minisom import MiniSom \n",
    "import numpy as np\n",
    "from pathlib import Path\n",
    "import matplotlib.pyplot as plt\n",
    "import scipy.io\n",
    "from sklearn.preprocessing import scale\n",
    "from sklearn.model_selection import train_test_split\n",
    "from sklearn.metrics import classification_report\n",
    "%matplotlib inline"
   ]
  },
  {
   "cell_type": "markdown",
   "metadata": {},
   "source": [
    "## Import dataset"
   ]
  },
  {
   "cell_type": "code",
   "execution_count": null,
   "metadata": {},
   "outputs": [],
   "source": [
    "path = Path().cwd()\n",
    "\n",
    "data_file = path / \"zipdata.mat\"\n",
    "data = scipy.io.loadmat(data_file)\n",
    "\n",
    "# scale data and get X and y\n",
    "X = data['X']\n",
    "y = data['y'].reshape(-1)"
   ]
  },
  {
   "cell_type": "markdown",
   "metadata": {},
   "source": [
    "### 4) Try the SOM clustering method in the Zip data:"
   ]
  },
  {
   "cell_type": "code",
   "execution_count": null,
   "metadata": {},
   "outputs": [],
   "source": [
    "# documentation at https://github.com/JustGlowing/minisom\n",
    "# size of grid is given first, 30,30\n",
    "# Try changing this and see how it affects the map\n",
    "# as well as the learning rate\n",
    "som_shape = (30, 30)\n",
    "# then we have features\n",
    "som = MiniSom(som_shape[0], som_shape[1], 256, sigma=4, learning_rate=0.5)\n",
    "som.pca_weights_init(X)\n",
    "som.train_random(X, 5000, verbose=True)"
   ]
  },
  {
   "cell_type": "code",
   "execution_count": null,
   "metadata": {
    "scrolled": false
   },
   "outputs": [],
   "source": [
    "# let us first plot the mapping that is created with SOM\n",
    "plt.figure(figsize=(10, 10))\n",
    "for x, target in zip(X, y):  # scatterplot\n",
    "    w = som.winner(x)\n",
    "    plt. text(w[0]+.5,  w[1]+.5,  str(target),\n",
    "              color=plt.cm.rainbow(target / 10.), fontdict={'weight': 'bold',  'size': 11})\n",
    "plt.axis([0, som.get_weights().shape[0], 0,  som.get_weights().shape[1]])\n",
    "plt.show()"
   ]
  },
  {
   "cell_type": "markdown",
   "metadata": {},
   "source": [
    "## Clustering"
   ]
  },
  {
   "cell_type": "code",
   "execution_count": null,
   "metadata": {},
   "outputs": [],
   "source": [
    "# Initialization and training\n",
    "som_shape = (4, 4)\n",
    "som = MiniSom(som_shape[0], som_shape[1], 256)\n",
    "\n",
    "som.pca_weights_init(X)\n",
    "som.train_batch(X, 5000, verbose=False)"
   ]
  },
  {
   "cell_type": "code",
   "execution_count": null,
   "metadata": {},
   "outputs": [],
   "source": [
    "plt.figure(figsize=(8, 8))\n",
    "for x, t in zip(X, y):  # scatterplot    \n",
    "    w = som.winner(x)\n",
    "    xval = w[0]+.5+0.6*np.random.rand(1)-0.3\n",
    "    yval = w[1]+.5+0.6*np.random.rand(1)-0.3\n",
    "    plt.text(xval, yval,  str(t), color=plt.cm.rainbow(t / 10.), fontdict={'weight': 'bold',  'size': 11})\n",
    "    \n",
    "plt.axis([0, som.get_weights().shape[0], 0,  som.get_weights().shape[1]])\n",
    "plt.show()"
   ]
  },
  {
   "cell_type": "code",
   "execution_count": null,
   "metadata": {},
   "outputs": [],
   "source": [
    "# Lets print the cluster centers\n",
    "f, ax = plt.subplots()\n",
    "centroids = som.get_weights()\n",
    "# Inputs\n",
    "ax.set_title('cluster centers')\n",
    "ax.axis('off')\n",
    "\n",
    "rows = 4\n",
    "columns = 4\n",
    "\n",
    "canvas = np.zeros((16*rows, columns*16))\n",
    "for i in range(rows):\n",
    "    for j in range(columns):\n",
    "        canvas[(rows-i-1)*16:(rows-i)*16, j*16:(j+1)*16] = centroids[j][i][:].reshape((16, 16))\n",
    "ax.imshow(canvas, cmap='gray')\n",
    "plt.show()"
   ]
  },
  {
   "cell_type": "code",
   "execution_count": null,
   "metadata": {
    "scrolled": false
   },
   "outputs": [],
   "source": [
    "# each neuron represents a cluster\n",
    "winner_coordinates = np.array([som.winner(x) for x in X]).T\n",
    "# with np.ravel_multi_index we convert the bidimensional coordinates to a monodimensional index\n",
    "cluster_index = np.ravel_multi_index(winner_coordinates, som_shape)\n",
    "\n",
    "# let us print the clusterings of the digits\n",
    "f, axarr = plt.subplots(4,4, figsize=(10,20))\n",
    "\n",
    "num_clusters = 16\n",
    "cluster_pr_row = num_clusters // 4\n",
    "cluster_num=0\n",
    "for col in range(4):\n",
    "    for cluster_center in range(cluster_pr_row):\n",
    "        ax=axarr[3-cluster_center,col]\n",
    "        obs_in_cluster = X[cluster_index == cluster_num]\n",
    "        n, p = obs_in_cluster.shape\n",
    "        rows = 10\n",
    "        columns = int(np.ceil(n / rows))\n",
    "            \n",
    "\n",
    "        canvas = np.zeros((16*rows, columns*16))\n",
    "        for idx in range(n):\n",
    "            i = idx % rows\n",
    "            j = idx // rows\n",
    "            canvas[i*16:i*16+16, j*16:j*16+16] = obs_in_cluster[idx].reshape((16, 16))\n",
    "        ax.imshow(canvas, cmap='gray')\n",
    "        \n",
    "        ax.set_title(f'cluster: {cluster_num}')\n",
    "        cluster_num+=1\n",
    "        ax.axis('off')\n",
    "\n",
    "plt.show()"
   ]
  }
 ],
 "metadata": {
  "kernelspec": {
   "display_name": "Python 3",
   "language": "python",
   "name": "python3"
  },
  "language_info": {
   "codemirror_mode": {
    "name": "ipython",
    "version": 3
   },
   "file_extension": ".py",
   "mimetype": "text/x-python",
   "name": "python",
   "nbconvert_exporter": "python",
   "pygments_lexer": "ipython3",
   "version": "3.8.8"
  }
 },
 "nbformat": 4,
 "nbformat_minor": 4
}
