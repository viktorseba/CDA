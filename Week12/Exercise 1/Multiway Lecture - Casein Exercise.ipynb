{
 "cells": [
  {
   "cell_type": "markdown",
   "metadata": {},
   "source": [
    "## Computational Data Analysis {-}\n",
    "\n",
    "## Course 02582 {-}\n",
    "\n",
    "### Andreas Baum, andba@dtu.dk {-}"
   ]
  },
  {
   "cell_type": "markdown",
   "metadata": {},
   "source": [
    "**NOTE**: Please do not re-distribute the data used in this exercise!\n",
    "\n",
    "Required R packages: *dill*, *numpy*, *scikit-learn*, *tensorly*, *matplotlib* \n",
    "\n",
    "# Background\n",
    "\n",
    "Fourier Transform Infrared spectroscopy (FTIR) is used in chemistry \n",
    "as a rapid analytical method to obtain a snapshot representing the entire chemical \n",
    "complexity of a given sample.\n",
    "\n",
    "The present data describes FTIR spectra of milk samples which were measured time-resolved during an ongoing enzymatic reaction. A protease - an enzyme which is capable of degrading proteins - was added to each sample containing varying casein concentrations (a milk protein). As soon as the protease was injected FTIR spectra were acquired consecutively. Due to the enzyme activity the spectra started to change. The resulting spectral evolution represents the kinetic behavior of the enzymatic reaction monitored. Such spectral evolution profiles (eps) were acquired for each sample given different initial casein concentrations.\n",
    "\n",
    "Each evolution profile (ep) is represented as a $N \\times M$ data matrix with $N$ temporal time points (= number of spectra) and $M$ spectral wavenumbers. Some data pre-processing has been performed for all eps, i.e. the first spectrum of each ep was subtracted from each respective series. Hence, the spectral changes appear in reference to the initial spectrum at time point $0$. \n",
    "\n",
    "The goal of this exercise is to establish a suitable PARAFAC model which is capable of quantifying the initial casein concentration. No Cross-Validation should be performed, instead the entire data shall be considered in an unsupervised learning regime. \n",
    "\n",
    "Data reference: Baum et al., *Journal of dairy science* 99, no. 8 (**2016**): 6071-6079.\n"
   ]
  },
  {
   "cell_type": "markdown",
   "metadata": {},
   "source": [
    "# Questions"
   ]
  },
  {
   "cell_type": "markdown",
   "metadata": {},
   "source": [
    "## Install all required Python3 packages and load the data! (You may require upgraded packages) \n",
    "\n",
    "Load the pickled data (`casein.pkl`) using dill. Each list entry in `eps_list` represents a spectral evolution profile (ep) for a given casein concentration."
   ]
  },
  {
   "cell_type": "code",
   "execution_count": null,
   "metadata": {},
   "outputs": [],
   "source": [
    "import dill\n",
    "import pandas as pd\n",
    "import numpy as np\n",
    "from matplotlib import pyplot as plt\n",
    "\n",
    "dill.load_session('casein.pkl')\n",
    "# Form tensor x by stacking list of matrices (eps)\n",
    "x = np.array(eps_list)\n",
    "# casein_conc contains the known casein concentrations for the 36 samples\n",
    "print(len(casein_conc))\n",
    "# scale_temporal and scale_spectra contains the axis labels for the temporal and spectral mode\n",
    "print(len(scale_temporal))\n",
    "print(len(scale_spectra))"
   ]
  },
  {
   "cell_type": "markdown",
   "metadata": {},
   "source": [
    "## What are the dimensions of the tensor $\\mathcal{X}$? What are the three modes of the tensor?"
   ]
  },
  {
   "cell_type": "code",
   "execution_count": null,
   "metadata": {},
   "outputs": [],
   "source": []
  },
  {
   "cell_type": "markdown",
   "metadata": {},
   "source": [
    "## Visualize some of the eps! You may use the function provided below.\n",
    "\n",
    "Each ep can be represented as a tensor slab (matrix). Hence, eps can be visualized using 3d surface plots. Let's create a function for convenient surface plotting of eps. "
   ]
  },
  {
   "cell_type": "code",
   "execution_count": null,
   "metadata": {},
   "outputs": [],
   "source": [
    "def surf_plot_comparison(eps_sel, casein_sel):\n",
    "    # A function for convenient comparison of several eps\n",
    "    from mpl_toolkits.mplot3d import Axes3D\n",
    "    from matplotlib import cm\n",
    "    fig = plt.figure(figsize=(15,10), dpi=600)  \n",
    "    for pos in range(len(eps_sel)):\n",
    "        ax = fig.add_subplot(2, 3, pos+1, projection='3d')\n",
    "        ax.plot_surface(*np.meshgrid(scale_spectra, scale_temporal),\n",
    "                        eps_sel[pos], cmap=cm.jet)\n",
    "        ax.view_init(25,235)\n",
    "        ax.set_zlim(eps_sel.min(), eps_sel.max())\n",
    "        ax.set_xlabel('$\\\\lambda$ in $cm^{-1}$')\n",
    "        ax.set_ylabel('time in $min$')\n",
    "        ax.set_zlabel('$Abs$')\n",
    "        ax.set_title('$c_{casein} = %.2f \\; g/L$' % casein_sel[pos])\n"
   ]
  },
  {
   "cell_type": "code",
   "execution_count": null,
   "metadata": {},
   "outputs": [],
   "source": []
  },
  {
   "cell_type": "markdown",
   "metadata": {},
   "source": [
    "## For the following assume the notation of the decomposition as $\\mathcal{X} = A  (B \\odot C)^T + \\mathcal{E}$, where $\\mathcal{X}$, $A$, $B$, $C$ and $\\mathcal{E}$ represent the three-way tensor, sample mode loadings (PARAFAC scores), temporal mode loadings, spectral mode loadings and residual tensor, respectively and $\\odot$ represents the Khatri-Rao product. Decompose the three-way tensor using PARAFAC. How many components do you require? Why?"
   ]
  },
  {
   "cell_type": "code",
   "execution_count": null,
   "metadata": {},
   "outputs": [],
   "source": [
    "from tensorly.decomposition import parafac"
   ]
  },
  {
   "cell_type": "markdown",
   "metadata": {},
   "source": [
    "## Compute the outer vector product of the first component's temporal and spectral loading ($b_1c_1^T$). Surf plot the result. How does the plotted result relate to the plotted eps from the first figure?\n",
    "\n",
    "You may use the function `surf_plot` given below."
   ]
  },
  {
   "cell_type": "code",
   "execution_count": null,
   "metadata": {},
   "outputs": [],
   "source": [
    "def surf_plot(ep_sel):\n",
    "    # A function for convenient surf plotting\n",
    "    from mpl_toolkits.mplot3d import Axes3D\n",
    "    from matplotlib import cm\n",
    "    fig = plt.figure(figsize=(10,8), dpi=600)\n",
    "    ax = fig.add_subplot(1, 1, 1, projection='3d')\n",
    "    ax.plot_surface(*np.meshgrid(scale_spectra, scale_temporal),\n",
    "                    ep_sel, cmap=cm.jet)\n",
    "    ax.view_init(25,235)\n",
    "    ax.set_xlabel('[$cm^{-1}$]')\n",
    "    ax.set_ylabel('[$min$]')\n",
    "    ax.set_zlabel('[$Abs$]')"
   ]
  },
  {
   "cell_type": "code",
   "execution_count": null,
   "metadata": {},
   "outputs": [],
   "source": []
  },
  {
   "cell_type": "markdown",
   "metadata": {},
   "source": [
    "## Reconstruct the tensor using $A$, $B$ and $C$, such that $\\hat{\\mathcal{X}} = A  (B \\odot C)^T$. You may simply use the function below. Thereafter, compute the residuals $\\mathcal{E} = \\mathcal{X} - \\hat{\\mathcal{\\mathcal{X}}}$. Look at some of the residuals using similar surface plots as in question 3."
   ]
  },
  {
   "cell_type": "code",
   "execution_count": null,
   "metadata": {},
   "outputs": [],
   "source": []
  },
  {
   "cell_type": "markdown",
   "metadata": {},
   "source": [
    "## Unfold the tensor appropriately and perform PCA using one component!"
   ]
  },
  {
   "cell_type": "code",
   "execution_count": null,
   "metadata": {},
   "outputs": [],
   "source": [
    "from sklearn.decomposition import PCA"
   ]
  },
  {
   "cell_type": "markdown",
   "metadata": {},
   "source": [
    "## Scatter plot the PCA and PARAFAC scores against the casein concentration. What do you observe? Are these unsupervised models appropriate to quantify the casein concentration in milk? How many parameters were fitted using PCA? How many using PARAFAC? What is the advantage of PARAFAC in this application?"
   ]
  },
  {
   "cell_type": "code",
   "execution_count": null,
   "metadata": {},
   "outputs": [],
   "source": []
  }
 ],
 "metadata": {
  "kernelspec": {
   "display_name": "Python 3",
   "language": "python",
   "name": "python3"
  },
  "language_info": {
   "codemirror_mode": {
    "name": "ipython",
    "version": 3
   },
   "file_extension": ".py",
   "mimetype": "text/x-python",
   "name": "python",
   "nbconvert_exporter": "python",
   "pygments_lexer": "ipython3",
   "version": "3.6.7"
  }
 },
 "nbformat": 4,
 "nbformat_minor": 2
}
