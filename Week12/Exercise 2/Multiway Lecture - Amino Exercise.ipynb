{
 "cells": [
  {
   "cell_type": "markdown",
   "metadata": {},
   "source": [
    "## Computational Data Analysis {-}\n",
    "\n",
    "## Course 02582 {-}\n",
    "\n",
    "### Andreas Baum, andba@dtu.dk {-}"
   ]
  },
  {
   "cell_type": "markdown",
   "metadata": {},
   "source": [
    "Required Python3 packages: *dill*, *numpy*, *scikit-learn*, *tensorly*, *matplotlib* \n",
    "\n",
    "# Background\n",
    "\n",
    "Excitation-emission fluorescence spectroscopy is used in analytical chemistry to detect and quantify chemical constituents, e.g. amino acids. Such constituents typically absorb light in a certain spectral range (excitement) followed by the subsequent phenomena of light emission (fluorescence). Hereby, the emitted light may indicate different wavelengths than the light used for excitation.  \n",
    "\n",
    "This provided data set consists of five simple laboratory-made samples. Each sample contains different amounts of tyrosine, tryptophan and phenylalanine dissolved in phosphate buffered water. The samples were measured by fluorescence (excitation 250-300 nm, emission 250-450 nm, 1 nm intervals) on a PE LS50B spectrofluorometer. The multiway array $\\mathcal{X}$ to be decomposed is hence $5 \\times 61 \\times 201$. (Bro et al. 1997)\n",
    "\n",
    "For further information about these data refer to: Bro, R, \"PARAFAC: Tutorial and applications\", *Chemometrics and Intelligent Laboratory Systems*, **1997**, 38, 149-171\n"
   ]
  },
  {
   "cell_type": "markdown",
   "metadata": {},
   "source": [
    "# Questions"
   ]
  },
  {
   "cell_type": "markdown",
   "metadata": {},
   "source": [
    "## Install all required Python3 packages (maybe you require upgrades)! Load pickled data (`Amino.pkl`) using dill!\n",
    "\n",
    "This has been done for you already. The tensor $\\mathcal{X}$ is stored in variable `x`. Amino acid concentrations of the three amino acids tryptophan, tyrosine and phenylalanine are stored in `amin_conc`. `scale_em` and `scale_ex` contain the axis labels for the emission and the excitation mode. The tensor $\\mathcal{X}$ has three modes and its dimensionality is $5 \\times 61 \\times 201$."
   ]
  },
  {
   "cell_type": "code",
   "execution_count": 1,
   "metadata": {},
   "outputs": [
    {
     "name": "stdout",
     "output_type": "stream",
     "text": [
      "(5, 61, 201)\n"
     ]
    }
   ],
   "source": [
    "import dill\n",
    "dill.load_session('Amino.pkl')\n",
    "\n",
    "# concentrations of the three amino acids in the five samples \n",
    "amino_conc\n",
    "colnames_amino = ['tryptophan', 'tyrosine', 'phenylalanine']\n",
    "\n",
    "# axis labels for the emission and excitation mode\n",
    "scale_em = emax\n",
    "scale_ex = exax\n",
    "\n",
    "# dimensionality of the tensor X is ...\n",
    "print(x.shape)"
   ]
  },
  {
   "cell_type": "markdown",
   "metadata": {},
   "source": [
    "## Visualize all 5 Excitation/Emission (EX/EM) profiles (= samples) using surface plots! Ideally these data should be describable with three PARAFAC components. Why?\n",
    "\n",
    "**Hint**: You can find Python code on how to surface plot in the casein exercise."
   ]
  },
  {
   "cell_type": "markdown",
   "metadata": {},
   "source": [
    "## Decompose the three-way tensor using PARAFAC!\n",
    "\n",
    "For the following assume the notation of the decomposition as $\\mathcal{X} = A  (B \\odot C)^T + \\mathcal{E}$, where $\\mathcal{X}$, $A$, $B$, $C$ and $\\mathcal{E}$ represent the three-way tensor, PARAFAC scores (sample mode loadings), loadings for the emission and excitation mode and residuals, respectively, and $\\odot$ represents the Khatri-Rao product."
   ]
  },
  {
   "cell_type": "code",
   "execution_count": 2,
   "metadata": {},
   "outputs": [],
   "source": [
    "from tensorly.decomposition import parafac\n",
    "# Define number of components\n",
    "numcomp = 3\n",
    "\n",
    "# random state is set to reproduce solution handout results\n",
    "model1 = parafac(x, numcomp, init='random', random_state=2020)\n",
    "loadings = model1[1]"
   ]
  },
  {
   "cell_type": "markdown",
   "metadata": {},
   "source": [
    "## Plot all PARAFAC mode loadings ($A$, $B$ and $C$)! How do these relate to the 5 EX/EM profiles above? "
   ]
  },
  {
   "cell_type": "code",
   "execution_count": null,
   "metadata": {},
   "outputs": [],
   "source": []
  },
  {
   "cell_type": "markdown",
   "metadata": {},
   "source": [
    "## Scatter plot the PARAFAC scores versus the appropriate known amino acid concentrations! \n",
    "\n",
    "**Hint**: You are expected to obtain three scatter plots here, one for each amino acid."
   ]
  },
  {
   "cell_type": "code",
   "execution_count": null,
   "metadata": {},
   "outputs": [],
   "source": []
  },
  {
   "cell_type": "markdown",
   "metadata": {},
   "source": [
    "## Compute the outer vector products $b_ic_i^T$ for all PARAFAC components $1, 2, ..., I$  and surface plot the result!"
   ]
  },
  {
   "cell_type": "code",
   "execution_count": null,
   "metadata": {},
   "outputs": [],
   "source": []
  },
  {
   "cell_type": "markdown",
   "metadata": {},
   "source": [
    "## Reconstruct the 5th EX/EM profile using the PARAFAC model and surface plot the result!"
   ]
  },
  {
   "cell_type": "code",
   "execution_count": 3,
   "metadata": {},
   "outputs": [],
   "source": [
    "from tensorly.tenalg import khatri_rao\n",
    "from tensorly import fold"
   ]
  },
  {
   "cell_type": "markdown",
   "metadata": {},
   "source": [
    "## Reconstruct the 5th sample using the PARAFAC model, but remove the tyrosine signals! Surface plot the result!"
   ]
  },
  {
   "cell_type": "code",
   "execution_count": null,
   "metadata": {},
   "outputs": [],
   "source": []
  },
  {
   "cell_type": "markdown",
   "metadata": {},
   "source": [
    "## (Optional) Compute the core tensor, such that $\\mathcal{G} = \\mathcal{X} \\times_1 A^{-1} \\times_2 B^{-1} \\times_3 C^{-1}$. \n",
    "\n",
    "**Hint**: Use the function `multi_mode_dot` for sequential calculation of n-mode products."
   ]
  },
  {
   "cell_type": "code",
   "execution_count": 4,
   "metadata": {},
   "outputs": [],
   "source": [
    "from tensorly.tenalg import multi_mode_dot"
   ]
  },
  {
   "cell_type": "markdown",
   "metadata": {},
   "source": [
    "## (Optional) Calculate the core consistency diagnostic (corcondia - CCD), such that $CCD = 100 \\cdot (1 - \\frac{||\\mathcal{I} - \\mathcal{G}||_F^2}{||\\mathcal{I}||_F^2})$)! What is the purpose of the CCD? \n",
    "\n",
    "**Hint**: $\\mathcal{I}$ represents a perfect super-diagonal core tensor, i.e. it contains ones along its diagonal and zeros otherwise."
   ]
  },
  {
   "cell_type": "code",
   "execution_count": null,
   "metadata": {},
   "outputs": [],
   "source": []
  },
  {
   "cell_type": "markdown",
   "metadata": {},
   "source": [
    "## (Optional) Unfold the data and perform PCA! Can three PCA components resolve the three amino acids? Does PCA yield a unique solution?"
   ]
  },
  {
   "cell_type": "markdown",
   "metadata": {},
   "source": [
    "PCA was performed for you already!"
   ]
  },
  {
   "cell_type": "code",
   "execution_count": 5,
   "metadata": {},
   "outputs": [],
   "source": [
    "from sklearn.decomposition import PCA\n",
    "from sklearn.preprocessing import StandardScaler\n",
    "from tensorly import unfold\n",
    "\n",
    "# Unfold, mean-center and perform PCA\n",
    "x_unfold = unfold(x, mode=0)\n",
    "scaler1 = StandardScaler(with_mean=True, with_std=False)\n",
    "model2 = PCA(numcomp)\n",
    "pca_scores = model2.fit_transform(scaler1.fit_transform(x_unfold))"
   ]
  }
 ],
 "metadata": {
  "kernelspec": {
   "display_name": "Python 3",
   "language": "python",
   "name": "python3"
  },
  "language_info": {
   "codemirror_mode": {
    "name": "ipython",
    "version": 3
   },
   "file_extension": ".py",
   "mimetype": "text/x-python",
   "name": "python",
   "nbconvert_exporter": "python",
   "pygments_lexer": "ipython3",
   "version": "3.6.7"
  }
 },
 "nbformat": 4,
 "nbformat_minor": 2
}
