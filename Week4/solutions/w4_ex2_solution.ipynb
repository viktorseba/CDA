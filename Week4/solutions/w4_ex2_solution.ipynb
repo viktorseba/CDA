{
 "cells": [
  {
   "cell_type": "markdown",
   "metadata": {},
   "source": [
    "## Imports"
   ]
  },
  {
   "cell_type": "code",
   "execution_count": 1,
   "metadata": {},
   "outputs": [],
   "source": [
    "from __future__ import division\n",
    "import numpy as np\n",
    "import pandas as pd\n",
    "from sklearn.linear_model import LogisticRegression, LogisticRegressionCV\n",
    "from sklearn.model_selection import KFold, StratifiedKFold\n",
    "import sklearn as sk\n",
    "import matplotlib.pyplot as plt\n",
    "import os\n",
    "from sklearn import preprocessing\n",
    "import warnings # to silence convergence warnings\n",
    "\n",
    "# seaborn can be used to \"prettify\" default matplotlib plots by importing and setting as default\n",
    "import seaborn as sns\n",
    "sns.set() # Set searborn as default"
   ]
  },
  {
   "cell_type": "markdown",
   "metadata": {},
   "source": [
    "## Load dataset"
   ]
  },
  {
   "cell_type": "code",
   "execution_count": 2,
   "metadata": {},
   "outputs": [],
   "source": [
    "# read in the data to pandas dataframes and convert to numpy arrays\n",
    "GXtrain = pd.read_csv(os.path.join('..','Data', 'GolubGXtrain.csv'), header=None)\n",
    "GXtest = pd.read_csv(os.path.join('..','Data', 'GolubGXtest.csv'), header=None)\n",
    "\n",
    "Xtrain = np.array(GXtrain.loc[:, GXtrain.columns != 0])\n",
    "Ytrain = np.array(GXtrain.loc[:, GXtrain.columns == 0]).ravel()\n",
    "\n",
    "Xtest = np.array(GXtest.loc[:, GXtest.columns != 0])\n",
    "Ytest = np.array(GXtest.loc[:, GXtest.columns == 0]).ravel()\n"
   ]
  },
  {
   "cell_type": "markdown",
   "metadata": {},
   "source": [
    "### 2 We have a data material (Golub et al 1999) with gene expression levels from 72 patients with two forms of leukemia, acute myeloid leukemia (AML) and acute lymphoblastic leukemia (ALL). Gene expression levels (how actively the cells are using the information in di\u000b",
    "erent genes) are measured for 7127 genes. We would like to build a biomarker for classification of the two cancer forms. Ideally, we would like to use onlya few variables."
   ]
  },
  {
   "cell_type": "markdown",
   "metadata": {},
   "source": [
    "> a) How can you use logistic regression here?\n",
    "\n",
    "> b) Build a classifier for training data in GolubGXtrain.csv. What regularization method do you prefer if you want to have few genes in the biomarker?"
   ]
  },
  {
   "cell_type": "code",
   "execution_count": 3,
   "metadata": {},
   "outputs": [
    {
     "name": "stdout",
     "output_type": "stream",
     "text": [
      "CV lambda 1 std rule 0.63\n"
     ]
    },
    {
     "data": {
      "image/png": "[encoded data removed]",
      "text/plain": [
       "<Figure size 432x288 with 1 Axes>"
      ]
     },
     "metadata": {},
     "output_type": "display_data"
    }
   ],
   "source": [
    "def devianceFunc(ytrue, yscores):\n",
    "    return 2*sk.metrics.log_loss(ytrue, yscores, normalize=False)\n",
    "\n",
    "lambdas = np.logspace(-4,2,50)\n",
    "K = 10\n",
    "CV = StratifiedKFold(K,shuffle=True)\n",
    "X_standardizer = preprocessing.StandardScaler()\n",
    "\n",
    "deviance = np.zeros((K, len(lambdas)))\n",
    "with warnings.catch_warnings(): # done to disable all the convergence warnings from elastic net\n",
    "    warnings.simplefilter(\"ignore\")\n",
    "    for i, (train_index, test_index) in enumerate(CV.split(Xtrain, Ytrain)):\n",
    "\n",
    "        X_train = Xtrain[train_index, :]\n",
    "        y_train = Ytrain[train_index]\n",
    "        \n",
    "        y_test = Ytrain[test_index]\n",
    "        X_test = Xtrain[test_index]\n",
    "        \n",
    "        X_train = X_standardizer.fit_transform(X_train)\n",
    "        X_test = X_standardizer.transform(X_test)\n",
    "\n",
    "        for k, lambda_ in enumerate(lambdas):\n",
    "            model = LogisticRegression(penalty = 'l1', C = 1/lambda_, solver='liblinear')\n",
    "            model = model.fit(X_train, y_train)\n",
    "            \n",
    "            y_est = model.predict_proba(X_test)\n",
    "            \n",
    "            deviance[i,k] = devianceFunc(y_test, y_est)\n",
    "            \n",
    "testError = np.mean(deviance,axis=0)\n",
    "testStd = np.std(deviance,axis=0)\n",
    "\n",
    "# this is the index of the smallest error\n",
    "minErrorIdx = np.argmin(testError)\n",
    "\n",
    "# We want to find the simplest model that is only one standard error away from the smallest error\n",
    "# We start by finding all indices that are less than one standard error away from the minimum error\n",
    "J = np.where(testError < testError[minErrorIdx] + testStd[minErrorIdx])[0]\n",
    "\n",
    "# then we take the simplest model (furthest to the right)\n",
    "if (len(J) > 0):\n",
    "    j = int(J[-1::])\n",
    "else:\n",
    "    j = minErrorIdx\n",
    "\n",
    "Lambda_CV_1StdRule = lambdas[j]\n",
    "print(\"CV lambda 1 std rule %0.2f\" % Lambda_CV_1StdRule)\n",
    "\n",
    "\n",
    "plt.figure()\n",
    "plt.errorbar(lambdas, testError, testStd, marker='.', color='orange', markersize=10)\n",
    "plt.semilogx(lambdas, testError)\n",
    "\n",
    "plt.xlabel(\"Lambda\")\n",
    "plt.ylabel(\"Deviance\")\n",
    "plt.title(\"Cross-validated deviance of Lasso fit\")\n",
    "plt.show()"
   ]
  },
  {
   "cell_type": "markdown",
   "metadata": {},
   "source": [
    "> c) How many variables do you end up with?"
   ]
  },
  {
   "cell_type": "code",
   "execution_count": 4,
   "metadata": {},
   "outputs": [
    {
     "name": "stdout",
     "output_type": "stream",
     "text": [
      "The number of non-zero coefficients in our optimal model is: 17\n"
     ]
    }
   ],
   "source": [
    "# After we know our optimal lambda we can create our model with our training set\n",
    "X_train = X_standardizer.fit_transform(Xtrain)\n",
    "X_test = X_standardizer.transform(Xtest)\n",
    "modelOpt = LogisticRegression(penalty = 'l1', C = 1/Lambda_CV_1StdRule, solver='liblinear')\n",
    "modelOpt = modelOpt.fit(X_train, Ytrain)\n",
    "\n",
    "coef = modelOpt.coef_\n",
    "\n",
    "nrCoefs = len(np.nonzero(coef)[1])\n",
    "\n",
    "print(\"The number of non-zero coefficients in our optimal model is: %d\" % nrCoefs)"
   ]
  },
  {
   "cell_type": "markdown",
   "metadata": {},
   "source": [
    "> d) Use the obtained model to calculate accuracy on the test data."
   ]
  },
  {
   "cell_type": "code",
   "execution_count": 5,
   "metadata": {},
   "outputs": [
    {
     "name": "stdout",
     "output_type": "stream",
     "text": [
      "The accuracy for our optimal model is: 0.89\n"
     ]
    }
   ],
   "source": [
    "y_estOpt = modelOpt.predict(X_test)\n",
    "\n",
    "accuracy = np.sum(Ytest==modelOpt.predict(X_test))/len(Ytest)\n",
    "\n",
    "print(\"The accuracy for our optimal model is: %0.2f\" % accuracy)"
   ]
  }
 ],
 "metadata": {
  "kernelspec": {
   "display_name": "Python 3",
   "language": "python",
   "name": "python3"
  },
  "language_info": {
   "codemirror_mode": {
    "name": "ipython",
    "version": 3
   },
   "file_extension": ".py",
   "mimetype": "text/x-python",
   "name": "python",
   "nbconvert_exporter": "python",
   "pygments_lexer": "ipython3",
   "version": "3.8.3"
  }
 },
 "nbformat": 4,
 "nbformat_minor": 4
}
