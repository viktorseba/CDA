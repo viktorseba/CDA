{
 "cells": [
  {
   "cell_type": "markdown",
   "metadata": {},
   "source": [
    "## Imports"
   ]
  },
  {
   "cell_type": "code",
   "execution_count": 1,
   "metadata": {},
   "outputs": [],
   "source": [
    "import numpy as np\n",
    "import pandas as pd\n",
    "from sklearn.model_selection import train_test_split, KFold, GridSearchCV\n",
    "from sklearn.linear_model import LogisticRegression\n",
    "from sklearn.svm import SVC\n",
    "import matplotlib.pyplot as plt\n",
    "from pathlib import Path"
   ]
  },
  {
   "cell_type": "markdown",
   "metadata": {},
   "source": [
    "## Load dataset"
   ]
  },
  {
   "cell_type": "code",
   "execution_count": 2,
   "metadata": {},
   "outputs": [],
   "source": [
    "path = Path().cwd()\n",
    "data_file = path.parent / \"Data\" / \"Ex3Data.csv\"\n",
    "\n",
    "T = pd.read_csv(data_file, header=None)\n",
    "\n",
    "n, p = T.shape\n",
    "X = np.array(T.loc[:, T.columns != 2])\n",
    "y = np.array(T.loc[:, T.columns == 2]).T.reshape(n,1)"
   ]
  },
  {
   "cell_type": "markdown",
   "metadata": {},
   "source": [
    "## Helper functions"
   ]
  },
  {
   "cell_type": "code",
   "execution_count": 3,
   "metadata": {},
   "outputs": [],
   "source": [
    "def make_meshgrid(x, y, h=.02):\n",
    "    \"\"\"Create a mesh of points to plot in\n",
    "\n",
    "    Parameters\n",
    "    ----------\n",
    "    x: data to base x-axis meshgrid on\n",
    "    y: data to base y-axis meshgrid on\n",
    "    h: stepsize for meshgrid, optional\n",
    "\n",
    "    Returns\n",
    "    -------\n",
    "    xx, yy : ndarray\n",
    "    \"\"\"\n",
    "    x_min, x_max = x.min() - 1, x.max() + 1\n",
    "    y_min, y_max = y.min() - 1, y.max() + 1\n",
    "    xx, yy = np.meshgrid(np.arange(x_min, x_max, h),\n",
    "                         np.arange(y_min, y_max, h))\n",
    "    return xx, yy\n",
    "\n",
    "\n",
    "def plot_contours(ax, clf, xx, yy, **params):\n",
    "    \"\"\"Plot the decision boundaries for a classifier.\n",
    "\n",
    "    Parameters\n",
    "    ----------\n",
    "    clf: a classifier\n",
    "    xx: meshgrid ndarray\n",
    "    yy: meshgrid ndarray\n",
    "    params: dictionary of params to pass to contourf, optional\n",
    "    \"\"\"\n",
    "    Z = clf.predict(np.c_[xx.ravel(), yy.ravel()])\n",
    "    Z = Z.reshape(xx.shape)\n",
    "    out = ax.contourf(xx, yy, Z, **params)\n",
    "    return out"
   ]
  },
  {
   "cell_type": "markdown",
   "metadata": {},
   "source": [
    "### 3 Apply and interpret Support Vector Machines (SVM):\n",
    "\n",
    "> a) Given the data in Ex3Data.csv, pick the kernel type as well as values of $\\lambda$ and $\\sigma$,\n",
    "which gave the best visual results. Explain your decision."
   ]
  },
  {
   "cell_type": "code",
   "execution_count": 4,
   "metadata": {},
   "outputs": [
    {
     "data": {
      "image/png": "[encoded data removed]",
      "text/plain": [
       "<Figure size 432x288 with 1 Axes>"
      ]
     },
     "metadata": {},
     "output_type": "display_data"
    }
   ],
   "source": [
    "#Try to experiment with different parameters values.\n",
    "\n",
    "kernelType = 'rbf'  # <----- YOUR CHOICE. Specifies the kernel type to be used in the algorithm. \n",
    "                    # It must be one of ‘linear’, ‘poly’, ‘rbf’, ‘sigmoid’, ‘precomputed’ or a callable. \n",
    "                    # If none is given, ‘rbf’ will be used. If a callable is given it is used to pre-compute\n",
    "                    # the kernel matrix from data matrices; that matrix should be an array of shape \n",
    "                    # (n_samples, n_samples).\n",
    "                \n",
    "degreeVal = 3   # <----- YOUR CHOICE. Degree of the polynomial kernel function ('poly'). Ignored by all other kernels.\n",
    "\n",
    "cVal = 10  #  # <----- YOUR CHOICE. Penalty parameter C of the error term.\n",
    "                # The C parameter trades off misclassification of training examples\n",
    "                # against simplicity of the decision surface. A low C makes the decision \n",
    "                # surface smooth, while a high C aims at classifying all training examples\n",
    "                # correctly by giving the model freedom to select more samples as support vectors.\n",
    "                \n",
    "gammaVal = 'scale'  # <----- YOUR CHOICE. Kernel coefficient for (‘rbf’), (‘poly’) and (‘sigmoid’). Ignored by all other kernels.\n",
    "\n",
    "clf = SVC(degree=degreeVal, gamma=gammaVal, C=cVal, kernel=kernelType)\n",
    "\n",
    "# title for the plots\n",
    "title = 'SVC with %s kernel' % kernelType\n",
    "        \n",
    "# Set-up 2x2 grid for plotting.\n",
    "X0, X1 = X[:, 0], X[:, 1]\n",
    "xx, yy = make_meshgrid(X0, X1)\n",
    "\n",
    "ax = plt.subplot(111)\n",
    "plot_contours(ax, clf.fit(X,y.ravel()), xx, yy, cmap=plt.cm.coolwarm, alpha=0.8)\n",
    "ax.scatter(X0, X1, c=y.T.tolist()[0], cmap=plt.cm.coolwarm, s=20, edgecolors='k')\n",
    "ax.set_xlim(xx.min(), xx.max())\n",
    "ax.set_ylim(yy.min(), yy.max())\n",
    "ax.set_xticks(())\n",
    "ax.set_yticks(())\n",
    "ax.set_title(title)\n",
    "plt.show()"
   ]
  },
  {
   "cell_type": "code",
   "execution_count": null,
   "metadata": {},
   "outputs": [],
   "source": [
    "# Alternatively we can try a CV loop\n",
    "clf = SVC()\n",
    "\n",
    "kernelType = ['sigmoid', 'linear', 'rbf', 'poly']  # <----- YOUR CHOICE. Specifies the kernel type to be used in the algorithm. \n",
    "                    # It must be one of ‘linear’, ‘poly’, ‘rbf’, ‘sigmoid’, ‘precomputed’ or a callable. \n",
    "                    # If none is given, ‘rbf’ will be used. If a callable is given it is used to pre-compute\n",
    "                    # the kernel matrix from data matrices; that matrix should be an array of shape \n",
    "                    # (n_samples, n_samples).\n",
    "                \n",
    "degreeVal = range(1,10,1)   # <----- YOUR CHOICE. Degree of the polynomial kernel function ('poly'). Ignored by all other kernels.\n",
    "\n",
    "cVal = np.logspace(-1,4, 6)   #  # <----- YOUR CHOICE. Penalty parameter C of the error term.\n",
    "                                # The C parameter trades off misclassification of training examples\n",
    "                                # against simplicity of the decision surface. A low C makes the decision \n",
    "                                # surface smooth, while a high C aims at classifying all training examples\n",
    "                                # correctly by giving the model freedom to select more samples as support vectors.\n",
    "                \n",
    "gammaVal = np.arange(0.1, 1.1, 0.1) #  <----- YOUR CHOICE. Kernel coefficient for (‘rbf’), (‘poly’) and (‘sigmoid’). Ignored by all other kernels.\n",
    "                \n",
    "                \n",
    "# Try to add more of the parameters from the model and then add them to this dict to see how it affects the model.\n",
    "param_grid = {\n",
    "    'kernel': kernelType,\n",
    "    'C': cVal,\n",
    "    'degree': degreeVal,\n",
    "    'gamma': gammaVal\n",
    "}\n",
    "\n",
    "rf_grid = GridSearchCV(estimator = clf, param_grid = param_grid, cv = 5, verbose=2, n_jobs=-1)\n",
    "\n",
    "# Fit the grid search model\n",
    "rf_grid.fit(X, y.ravel())\n",
    "\n",
    "print(rf_grid.best_estimator_)"
   ]
  }
 ],
 "metadata": {
  "kernelspec": {
   "display_name": "Python 3",
   "language": "python",
   "name": "python3"
  },
  "language_info": {
   "codemirror_mode": {
    "name": "ipython",
    "version": 3
   },
   "file_extension": ".py",
   "mimetype": "text/x-python",
   "name": "python",
   "nbconvert_exporter": "python",
   "pygments_lexer": "ipython3",
   "version": "3.8.8"
  }
 },
 "nbformat": 4,
 "nbformat_minor": 4
}
